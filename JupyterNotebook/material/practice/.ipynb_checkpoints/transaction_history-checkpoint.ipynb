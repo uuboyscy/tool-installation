{
 "cells": [
  {
   "cell_type": "code",
   "execution_count": 4,
   "metadata": {},
   "outputs": [],
   "source": [
    "import pymysql\n",
    "import datetime"
   ]
  },
  {
   "cell_type": "code",
   "execution_count": 5,
   "metadata": {},
   "outputs": [
    {
     "name": "stdout",
     "output_type": "stream",
     "text": [
      "Connected successfully!\n"
     ]
    }
   ],
   "source": [
    "conn = pymysql.connect(\n",
    "    host = \"uuboyscymysql.clrhltpp3icl.ap-northeast-1.rds.amazonaws.com\",\n",
    "    port = int(3306),user = \"food\",\n",
    "    password = \"food\",\n",
    "    db = \"food\",\n",
    "    charset='utf8', \n",
    "    cursorclass=pymysql.cursors.DictCursor \n",
    "    )\n",
    "cursor = conn.cursor()\n",
    "print('Connected successfully!')"
   ]
  },
  {
   "cell_type": "code",
   "execution_count": 6,
   "metadata": {},
   "outputs": [
    {
     "data": {
      "text/plain": [
       "[{'datetime': datetime.datetime(2019, 2, 5, 2, 30, 42)},\n",
       " {'datetime': datetime.datetime(2019, 2, 6, 7, 40, 42)}]"
      ]
     },
     "execution_count": 6,
     "metadata": {},
     "output_type": "execute_result"
    }
   ],
   "source": [
    "cursor.execute(\"SELECT datetime FROM transaction WHERE userID = 'U7173dc299af6ac3fe7697a75c2a280ad' GROUP BY orderID\")\n",
    "data = cursor.fetchall()\n",
    "conn.close()\n",
    "data"
   ]
  },
  {
   "cell_type": "code",
   "execution_count": 15,
   "metadata": {},
   "outputs": [
    {
     "name": "stdout",
     "output_type": "stream",
     "text": [
      "2019-02-06 07:40:42\n",
      "2019-02-05 02:30:42\n",
      "2019-02-06 07:40:42\n"
     ]
    }
   ],
   "source": [
    "for i in data :\n",
    "    print(str(i['datetime']))"
   ]
  },
  {
   "cell_type": "code",
   "execution_count": 18,
   "metadata": {},
   "outputs": [],
   "source": [
    "def transaction_flex(timestamp_list):\n",
    "    single_flex_bubble = \"\"\"\"\"\"\n",
    "    if len(timestamp_list) == 0:\n",
    "        single_flex_bubble = \"\"\"{\n",
    "                    \"type\": \"text\",\n",
    "                    \"text\": \"No Transaction.\",\n",
    "                    \"margin\": \"md\",\n",
    "                    \"size\": \"lg\",\n",
    "                    \"align\": \"center\"\n",
    "                }\"\"\"\n",
    "    else:\n",
    "        for i in range(0, len(timestamp_list)):\n",
    "            single_flex_bubble += \"\"\"{\n",
    "                        \"type\": \"text\",\n",
    "                        \"text\": \"%s\",\n",
    "                        \"margin\": \"md\",\n",
    "                        \"size\": \"lg\",\n",
    "                        \"align\": \"center\"\n",
    "                    }\"\"\"%(timestamp_list[i]['datetime'])\n",
    "            if i < len(timestamp_list) - 1:\n",
    "                single_flex_bubble += \"\"\",\"\"\"\n",
    "    flex_bubble = \"\"\"\n",
    "    {\n",
    "\n",
    "        \"type\": \"bubble\",\n",
    "        \"direction\": \"ltr\",\n",
    "        \"header\": {\n",
    "            \"type\": \"box\",\n",
    "            \"layout\": \"vertical\",\n",
    "            \"contents\": [\n",
    "                {\n",
    "                    \"type\": \"text\",\n",
    "                    \"text\": \"ＴＲＡＮＳＡＣＴＩＯＮ  ＨＩＳＴＯＲＹ\",\n",
    "                    \"size\": \"xs\",\n",
    "                    \"align\": \"center\",\n",
    "                    \"weight\": \"bold\"\n",
    "                }\n",
    "            ]\n",
    "        },\n",
    "        \"body\": {\n",
    "            \"type\": \"box\",\n",
    "            \"layout\": \"vertical\",\n",
    "            \"contents\": [\n",
    "                %s\n",
    "            ]\n",
    "        }\n",
    "\n",
    "    }\n",
    "    \"\"\"%(single_flex_bubble)\n",
    "    \n",
    "    return flex_bubble"
   ]
  },
  {
   "cell_type": "code",
   "execution_count": 19,
   "metadata": {},
   "outputs": [
    {
     "name": "stdout",
     "output_type": "stream",
     "text": [
      "\n",
      "    {\n",
      "\n",
      "        \"type\": \"bubble\",\n",
      "        \"direction\": \"ltr\",\n",
      "        \"header\": {\n",
      "            \"type\": \"box\",\n",
      "            \"layout\": \"vertical\",\n",
      "            \"contents\": [\n",
      "                {\n",
      "                    \"type\": \"text\",\n",
      "                    \"text\": \"ＴＲＡＮＳＡＣＴＩＯＮ  ＨＩＳＴＯＲＹ\",\n",
      "                    \"size\": \"xs\",\n",
      "                    \"align\": \"center\",\n",
      "                    \"weight\": \"bold\"\n",
      "                }\n",
      "            ]\n",
      "        },\n",
      "        \"body\": {\n",
      "            \"type\": \"box\",\n",
      "            \"layout\": \"vertical\",\n",
      "            \"contents\": [\n",
      "                {\n",
      "                        \"type\": \"text\",\n",
      "                        \"text\": \"2019-02-05 02:30:42\",\n",
      "                        \"margin\": \"md\",\n",
      "                        \"size\": \"lg\",\n",
      "                        \"align\": \"center\"\n",
      "                    },{\n",
      "                        \"type\": \"text\",\n",
      "                        \"text\": \"2019-02-06 07:40:42\",\n",
      "                        \"margin\": \"md\",\n",
      "                        \"size\": \"lg\",\n",
      "                        \"align\": \"center\"\n",
      "                    }\n",
      "            ]\n",
      "        }\n",
      "\n",
      "    }\n",
      "    \n"
     ]
    }
   ],
   "source": [
    "if __name__ == \"__main__\":\n",
    "    print(transaction_flex(data))"
   ]
  },
  {
   "cell_type": "code",
   "execution_count": null,
   "metadata": {},
   "outputs": [],
   "source": []
  }
 ],
 "metadata": {
  "kernelspec": {
   "display_name": "Python 3",
   "language": "python",
   "name": "python3"
  },
  "language_info": {
   "codemirror_mode": {
    "name": "ipython",
    "version": 3
   },
   "file_extension": ".py",
   "mimetype": "text/x-python",
   "name": "python",
   "nbconvert_exporter": "python",
   "pygments_lexer": "ipython3",
   "version": "3.7.1"
  }
 },
 "nbformat": 4,
 "nbformat_minor": 2
}
