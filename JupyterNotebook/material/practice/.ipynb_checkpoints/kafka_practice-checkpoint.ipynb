{
 "cells": [
  {
   "cell_type": "code",
   "execution_count": 3,
   "metadata": {},
   "outputs": [
    {
     "name": "stdout",
     "output_type": "stream",
     "text": [
      "Collecting kafka-python\n",
      "\u001b[?25l  Downloading https://files.pythonhosted.org/packages/5f/89/f13d9b1f32cc37168788215a7ad1e4c133915f6853660a447660393b577d/kafka_python-1.4.4-py2.py3-none-any.whl (255kB)\n",
      "\u001b[K    100% |████████████████████████████████| 256kB 5.9MB/s ta 0:00:01\n",
      "\u001b[?25hInstalling collected packages: kafka-python\n",
      "Successfully installed kafka-python-1.4.4\n"
     ]
    }
   ],
   "source": [
    "!pip install kafka-python"
   ]
  },
  {
   "cell_type": "code",
   "execution_count": 4,
   "metadata": {},
   "outputs": [
    {
     "name": "stdout",
     "output_type": "stream",
     "text": [
      "Start listen incoming messages ...\n",
      "topic=U7173dc299af6ac3fe7697a75c2a280ad, partition=0, offset=17 : (key=1, value=1) , timestamp=1551061131220\n",
      "topic=U7173dc299af6ac3fe7697a75c2a280ad, partition=0, offset=18 : (key=1, value=2) , timestamp=1551061131220\n",
      "topic=U7173dc299af6ac3fe7697a75c2a280ad, partition=0, offset=19 : (key=2, value=1) , timestamp=1551061131220\n",
      "type ==> <class 'KeyboardInterrupt'>\n",
      "value ==> \n",
      "traceback ==> file name: <ipython-input-4-f0c0b26d48a7>\n",
      "traceback ==> line no: 29\n",
      "traceback ==> function name: <module>\n"
     ]
    }
   ],
   "source": [
    "from kafka import KafkaConsumer, TopicPartition, KafkaClient\n",
    "import sys\n",
    "\n",
    "if __name__ == \"__main__\":\n",
    "    # 步驟1.設定要連線到Kafka集群的相關設定, 產生一個Kafka的Consumer的實例\n",
    "    consumer = KafkaConsumer(\n",
    "        # Kafka集群在那裡?\n",
    "        bootstrap_servers=[\"34.80.39.244:9092\"],\n",
    "        # ConsumerGroup的名稱\n",
    "        group_id=\"chatbot_consumer\",\n",
    "        # 指定msgKey的反序列化器, 若Key為None, 無法反序列化\n",
    "         key_deserializer=bytes.decode,\n",
    "        # 指定msgValue的反序列化器\n",
    "        value_deserializer=bytes.decode,\n",
    "        # 是否從這個ConsumerGroup尚未讀取的partition / offset開始讀\n",
    "        auto_offset_reset=\"earliest\",\n",
    "    )\n",
    "\n",
    "    # 步驟2.指定想要訂閱訊息的topic名稱\n",
    "    topic_name = 'U7173dc299af6ac3fe7697a75c2a280ad'\n",
    "    with open('./transaction/%s'%(topic_name), 'w', encoding='utf-8') as f:\n",
    "        f.write('')\n",
    "\n",
    "    # 步驟3.讓Consumer向Kafka集群訂閱指定的topic\n",
    "    consumer.subscribe(topics=topic_name)\n",
    "\n",
    "    # 步驟4.持續的拉取Kafka有進來的訊息\n",
    "    try:\n",
    "        print(\"Start listen incoming messages ...\")\n",
    "        # 持續監控是否有新的record進來\n",
    "        for record in consumer:\n",
    "            topic = record.topic\n",
    "            partition = record.partition\n",
    "            offset = record.offset\n",
    "            timestamp = record.timestamp\n",
    "            # 取出msgKey與msgValue\n",
    "            msgKey = record.key\n",
    "            msgValue = record.value\n",
    "            wmsg = \"topic=%s, partition=%s, offset=%s : (key=%s, value=%s) , timestamp=%s\" % (topic, partition,\n",
    "                                                                              offset, msgKey, msgValue, timestamp)\n",
    "            # 將消費紀錄寫入檔案\n",
    "            if not msgKey == 'end':\n",
    "                with open('./transaction/%s'%(topic_name), 'a', encoding='utf-8') as f:\n",
    "                    f.write(wmsg+'<br>')\n",
    "            if msgKey == 'end':\n",
    "                with open('./transaction/%s'%(topic_name), 'w', encoding='utf-8') as f:\n",
    "                    f.write('')\n",
    "            # 秀出metadata與msgKey & msgValue訊息\n",
    "            print(wmsg)\n",
    "    except:\n",
    "        # 錯誤處理\n",
    "        e_type, e_value, e_traceback = sys.exc_info()\n",
    "        print(\"type ==> %s\" % (e_type))\n",
    "        print(\"value ==> %s\" % (e_value))\n",
    "        print(\"traceback ==> file name: %s\" % (e_traceback.tb_frame.f_code.co_filename))\n",
    "        print(\"traceback ==> line no: %s\" % (e_traceback.tb_lineno))\n",
    "        print(\"traceback ==> function name: %s\" % (e_traceback.tb_frame.f_code.co_name))\n",
    "    finally:\n",
    "        print('Bye!')\n",
    "        consumer.close()"
   ]
  }
 ],
 "metadata": {
  "kernelspec": {
   "display_name": "Python 3",
   "language": "python",
   "name": "python3"
  },
  "language_info": {
   "codemirror_mode": {
    "name": "ipython",
    "version": 3
   },
   "file_extension": ".py",
   "mimetype": "text/x-python",
   "name": "python",
   "nbconvert_exporter": "python",
   "pygments_lexer": "ipython3",
   "version": "3.7.1"
  }
 },
 "nbformat": 4,
 "nbformat_minor": 2
}
