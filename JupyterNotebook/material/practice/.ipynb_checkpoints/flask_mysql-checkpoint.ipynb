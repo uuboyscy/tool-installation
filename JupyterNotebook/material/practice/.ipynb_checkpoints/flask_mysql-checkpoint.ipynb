{
 "cells": [
  {
   "cell_type": "code",
   "execution_count": 15,
   "metadata": {},
   "outputs": [],
   "source": [
    "#製作環境\n",
    "from flask import Flask, request, jsonify\n",
    "import pymysql\n",
    "import datetime\n",
    "app = Flask(__name__)"
   ]
  },
  {
   "cell_type": "code",
   "execution_count": 16,
   "metadata": {},
   "outputs": [
    {
     "data": {
      "text/plain": [
       "[{'userid': 'NEW2Uhjvhjcxkhjbvbbklvxlkhjkhvxzh97f8d9s',\n",
       "  'name': 'LiLiang-Gan',\n",
       "  'tel': '08570857',\n",
       "  'email': 'shit@fuck.you'},\n",
       " {'userid': 'NEW333332Uhjvhjcxkhjbvbbklvxlkhjkhvxzh97f8d9s',\n",
       "  'name': 'LiLiang-Gan',\n",
       "  'tel': '08570857',\n",
       "  'email': 'shit@fuck.you'},\n",
       " {'userid': 'NEWUhjvhjcxkhjbvbbklvxlkhjkhvxzh97f8d9s',\n",
       "  'name': 'LiLiang-Gan',\n",
       "  'tel': '08570857',\n",
       "  'email': 'shit@fuck.you'},\n",
       " {'userid': 'U7173dc299af6ac3f79a752a280ad',\n",
       "  'name': 'ChengYou-Shi',\n",
       "  'tel': '0978987987',\n",
       "  'email': 'whoisyoudaddy@i.dont.know'},\n",
       " {'userid': 'U7173dc299af6ac3f79fa752a280ad',\n",
       "  'name': 'ChengYou-Shi',\n",
       "  'tel': '0978987987',\n",
       "  'email': 'whoisyoudaddy@i.dont.know'},\n",
       " {'userid': 'U7173dc299af6ac3f79fa7g52a280ad',\n",
       "  'name': 'ChengYou-Shi',\n",
       "  'tel': '0978987987',\n",
       "  'email': 'whoisyoudaddy@i.dont.know'},\n",
       " {'userid': 'U7173dc299af6ac3fe7697a752a280ad',\n",
       "  'name': 'ChengYou-Shi',\n",
       "  'tel': '0978987987',\n",
       "  'email': 'whoisyoudaddy@i.dont.know'},\n",
       " {'userid': 'U7173dc299af6ac3fe797a752a280ad',\n",
       "  'name': 'ChengYou-Shi',\n",
       "  'tel': '0978987987',\n",
       "  'email': 'whoisyoudaddy@i.dont.know'},\n",
       " {'userid': 'U7173dc299af6ac3fe79a752a280ad',\n",
       "  'name': 'ChengYou-Shi',\n",
       "  'tel': '0978987987',\n",
       "  'email': 'whoisyoudaddy@i.dont.know'},\n",
       " {'userid': 'Uhjvhjcxkhjbvbbklvxlkhjkhvxzh97f8d9s',\n",
       "  'name': 'LiLiang-Gan',\n",
       "  'tel': '08570857',\n",
       "  'email': 'shit@fuck.you'},\n",
       " {'userid': 'Uhjvhjcxkhjbvblkhjkhvxzh97f8d9s',\n",
       "  'name': 'LiLiang-Gan',\n",
       "  'tel': '08570857',\n",
       "  'email': 'shit@fuck.you'},\n",
       " {'userid': 'UJjckxlzbnjkcvnbjkvjzvkc;lz',\n",
       "  'name': 'NNAME',\n",
       "  'tel': '0987574575',\n",
       "  'email': 'vhcjzkl@jkvjc.cvjxki'}]"
      ]
     },
     "execution_count": 16,
     "metadata": {},
     "output_type": "execute_result"
    }
   ],
   "source": [
    "conn = pymysql.connect(\n",
    "    host = \"uuboyscymysql.clrhltpp3icl.ap-northeast-1.rds.amazonaws.com\",\n",
    "    port = int(3306),\n",
    "    user = \"food\",\n",
    "    password = \"food\",\n",
    "    db = \"food\",\n",
    "    charset='utf8mb4',    \n",
    "    cursorclass=pymysql.cursors.DictCursor )\n",
    "cursor = conn.cursor()\n",
    "cursor.execute('SELECT `userid`, `name`, `tel`, `email` FROM membersInfo')\n",
    "user = cursor.fetchall()\n",
    "answer = []\n",
    "for i in user:\n",
    "    result = {\n",
    "            \"userid\" : i['userid'],\n",
    "            \"name\" : i['name'],\n",
    "            \"tel\" : i['tel'],\n",
    "            \"email\" : i['email']\n",
    "        }\n",
    "    answer.append(result)\n",
    "answer"
   ]
  },
  {
   "cell_type": "code",
   "execution_count": null,
   "metadata": {},
   "outputs": [],
   "source": [
    "#接口功能：檢視所有使用者資訊\n",
    "#接口位置：/users，使用get的http method\n",
    "@app.route('/users', methods = ['GET'])\n",
    "def read_users():\n",
    "    cursor.execute('SELECT `userid`, `name`, `tel`, `email` FROM membersInfo')\n",
    "    user = cursor.fetchall()\n",
    "    answer = []\n",
    "    for i in user:\n",
    "        result = {\n",
    "            \"userid\" : i['userid'],\n",
    "            \"name\" : i['name'],\n",
    "            \"tel\" : i['tel'],\n",
    "            \"email\" : i['email']\n",
    "        }\n",
    "        answer.append(result)\n",
    "    #轉成json格式\n",
    "    return jsonify(answer)"
   ]
  },
  {
   "cell_type": "code",
   "execution_count": null,
   "metadata": {},
   "outputs": [],
   "source": [
    "if __name__ == '__main__':\n",
    "    app.run(host = '0.0.0.0', port = 5000)"
   ]
  },
  {
   "cell_type": "code",
   "execution_count": null,
   "metadata": {},
   "outputs": [],
   "source": []
  }
 ],
 "metadata": {
  "kernelspec": {
   "display_name": "Python 3",
   "language": "python",
   "name": "python3"
  },
  "language_info": {
   "codemirror_mode": {
    "name": "ipython",
    "version": 3
   },
   "file_extension": ".py",
   "mimetype": "text/x-python",
   "name": "python",
   "nbconvert_exporter": "python",
   "pygments_lexer": "ipython3",
   "version": "3.7.1"
  }
 },
 "nbformat": 4,
 "nbformat_minor": 2
}
