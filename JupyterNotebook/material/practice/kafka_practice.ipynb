{
 "cells": [
  {
   "cell_type": "code",
   "execution_count": 3,
   "metadata": {},
   "outputs": [
    {
     "name": "stdout",
     "output_type": "stream",
     "text": [
      "Collecting kafka-python\n",
      "\u001b[?25l  Downloading https://files.pythonhosted.org/packages/5f/89/f13d9b1f32cc37168788215a7ad1e4c133915f6853660a447660393b577d/kafka_python-1.4.4-py2.py3-none-any.whl (255kB)\n",
      "\u001b[K    100% |████████████████████████████████| 256kB 5.9MB/s ta 0:00:01\n",
      "\u001b[?25hInstalling collected packages: kafka-python\n",
      "Successfully installed kafka-python-1.4.4\n"
     ]
    }
   ],
   "source": [
    "!pip install kafka-python"
   ]
  },
  {
   "cell_type": "code",
   "execution_count": 5,
   "metadata": {},
   "outputs": [
    {
     "name": "stdout",
     "output_type": "stream",
     "text": [
      "Start listen incoming messages ...\n",
      "topic=U7173dc299af6ac3fe7697a75c2a280ad, partition=0, offset=20 : (key=1, value=1) , timestamp=1551063024061\n",
      "topic=U7173dc299af6ac3fe7697a75c2a280ad, partition=0, offset=21 : (key=1, value=2) , timestamp=1551063024062\n",
      "topic=U7173dc299af6ac3fe7697a75c2a280ad, partition=0, offset=22 : (key=2, value=1) , timestamp=1551063024062\n",
      "topic=U7173dc299af6ac3fe7697a75c2a280ad, partition=0, offset=23 : (key=1, value=1) , timestamp=1551063081783\n",
      "topic=U7173dc299af6ac3fe7697a75c2a280ad, partition=0, offset=24 : (key=1, value=2) , timestamp=1551063081784\n",
      "topic=U7173dc299af6ac3fe7697a75c2a280ad, partition=0, offset=25 : (key=2, value=1) , timestamp=1551063081784\n",
      "topic=U7173dc299af6ac3fe7697a75c2a280ad, partition=0, offset=26 : (key=1, value=1) , timestamp=1551063155486\n",
      "topic=U7173dc299af6ac3fe7697a75c2a280ad, partition=0, offset=27 : (key=end, value=2) , timestamp=1551063155487\n",
      "topic=U7173dc299af6ac3fe7697a75c2a280ad, partition=0, offset=28 : (key=2, value=1) , timestamp=1551063155487\n",
      "type ==> <class 'KeyboardInterrupt'>\n",
      "value ==> \n",
      "traceback ==> file name: <ipython-input-5-4b11d258d9a5>\n",
      "traceback ==> line no: 31\n",
      "traceback ==> function name: <module>\n",
      "Bye!\n"
     ]
    },
    {
     "name": "stderr",
     "output_type": "stream",
     "text": [
      "ERROR:root:Internal Python error in the inspect module.\n",
      "Below is the traceback from this internal error.\n",
      "\n"
     ]
    },
    {
     "name": "stdout",
     "output_type": "stream",
     "text": [
      "Traceback (most recent call last):\n",
      "  File \"/opt/conda/lib/python3.7/site-packages/IPython/core/interactiveshell.py\", line 3267, in run_code\n",
      "    exec(code_obj, self.user_global_ns, self.user_ns)\n",
      "  File \"<ipython-input-5-4b11d258d9a5>\", line 60, in <module>\n",
      "    consumer.close()\n",
      "  File \"/opt/conda/lib/python3.7/site-packages/kafka/consumer/group.py\", line 444, in close\n",
      "    self._coordinator.close(autocommit=autocommit)\n",
      "  File \"/opt/conda/lib/python3.7/site-packages/kafka/coordinator/consumer.py\", line 428, in close\n",
      "    super(ConsumerCoordinator, self).close()\n",
      "  File \"/opt/conda/lib/python3.7/site-packages/kafka/coordinator/base.py\", line 745, in close\n",
      "    self.maybe_leave_group()\n",
      "  File \"/opt/conda/lib/python3.7/site-packages/kafka/coordinator/base.py\", line 762, in maybe_leave_group\n",
      "    self._client.poll(future=future)\n",
      "  File \"/opt/conda/lib/python3.7/site-packages/kafka/client_async.py\", line 576, in poll\n",
      "    self._poll(timeout)\n",
      "  File \"/opt/conda/lib/python3.7/site-packages/kafka/client_async.py\", line 592, in _poll\n",
      "    ready = self._selector.select(timeout)\n",
      "  File \"/opt/conda/lib/python3.7/selectors.py\", line 468, in select\n",
      "    fd_event_list = self._selector.poll(timeout, max_ev)\n",
      "KeyboardInterrupt\n",
      "\n",
      "During handling of the above exception, another exception occurred:\n",
      "\n",
      "Traceback (most recent call last):\n",
      "  File \"/opt/conda/lib/python3.7/site-packages/IPython/core/interactiveshell.py\", line 2018, in showtraceback\n",
      "    stb = value._render_traceback_()\n",
      "AttributeError: 'KeyboardInterrupt' object has no attribute '_render_traceback_'\n",
      "\n",
      "During handling of the above exception, another exception occurred:\n",
      "\n",
      "Traceback (most recent call last):\n",
      "  File \"/opt/conda/lib/python3.7/site-packages/IPython/core/ultratb.py\", line 1095, in get_records\n",
      "    return _fixed_getinnerframes(etb, number_of_lines_of_context, tb_offset)\n",
      "  File \"/opt/conda/lib/python3.7/site-packages/IPython/core/ultratb.py\", line 313, in wrapped\n",
      "    return f(*args, **kwargs)\n",
      "KeyboardInterrupt\n"
     ]
    },
    {
     "ename": "KeyboardInterrupt",
     "evalue": "",
     "output_type": "error",
     "traceback": [
      "\u001b[0;31m---------------------------------------------------------------------------\u001b[0m"
     ]
    }
   ],
   "source": [
    "from kafka import KafkaConsumer, TopicPartition, KafkaClient\n",
    "import sys\n",
    "\n",
    "if __name__ == \"__main__\":\n",
    "    # 步驟1.設定要連線到Kafka集群的相關設定, 產生一個Kafka的Consumer的實例\n",
    "    consumer = KafkaConsumer(\n",
    "        # Kafka集群在那裡?\n",
    "        bootstrap_servers=[\"34.80.39.244:9092\"],\n",
    "        # ConsumerGroup的名稱\n",
    "        group_id=\"chatbot_consumer\",\n",
    "        # 指定msgKey的反序列化器, 若Key為None, 無法反序列化\n",
    "         key_deserializer=bytes.decode,\n",
    "        # 指定msgValue的反序列化器\n",
    "        value_deserializer=bytes.decode,\n",
    "        # 是否從這個ConsumerGroup尚未讀取的partition / offset開始讀\n",
    "        auto_offset_reset=\"earliest\",\n",
    "    )\n",
    "\n",
    "    # 步驟2.指定想要訂閱訊息的topic名稱\n",
    "    topic_name = 'U7173dc299af6ac3fe7697a75c2a280ad'\n",
    "    with open('./transaction/%s'%(topic_name), 'w', encoding='utf-8') as f:\n",
    "        f.write('')\n",
    "\n",
    "    # 步驟3.讓Consumer向Kafka集群訂閱指定的topic\n",
    "    consumer.subscribe(topics=topic_name)\n",
    "\n",
    "    # 步驟4.持續的拉取Kafka有進來的訊息\n",
    "    try:\n",
    "        print(\"Start listen incoming messages ...\")\n",
    "        # 持續監控是否有新的record進來\n",
    "        for record in consumer:\n",
    "            topic = record.topic\n",
    "            partition = record.partition\n",
    "            offset = record.offset\n",
    "            timestamp = record.timestamp\n",
    "            # 取出msgKey與msgValue\n",
    "            msgKey = record.key\n",
    "            msgValue = record.value\n",
    "            wmsg = \"topic=%s, partition=%s, offset=%s : (key=%s, value=%s) , timestamp=%s\" % (topic, partition,\n",
    "                                                                              offset, msgKey, msgValue, timestamp)\n",
    "            # 將消費紀錄寫入檔案\n",
    "            if not msgKey == 'end':\n",
    "                with open('./transaction/%s'%(topic_name), 'a', encoding='utf-8') as f:\n",
    "                    f.write(wmsg+'<br>')\n",
    "            if msgKey == 'end':\n",
    "                with open('./transaction/%s'%(topic_name), 'w', encoding='utf-8') as f:\n",
    "                    f.write('')\n",
    "            # 秀出metadata與msgKey & msgValue訊息\n",
    "            print(wmsg)\n",
    "    except:\n",
    "        # 錯誤處理\n",
    "        e_type, e_value, e_traceback = sys.exc_info()\n",
    "        print(\"type ==> %s\" % (e_type))\n",
    "        print(\"value ==> %s\" % (e_value))\n",
    "        print(\"traceback ==> file name: %s\" % (e_traceback.tb_frame.f_code.co_filename))\n",
    "        print(\"traceback ==> line no: %s\" % (e_traceback.tb_lineno))\n",
    "        print(\"traceback ==> function name: %s\" % (e_traceback.tb_frame.f_code.co_name))\n",
    "    finally:\n",
    "        print('Bye!')\n",
    "        consumer.close()"
   ]
  }
 ],
 "metadata": {
  "kernelspec": {
   "display_name": "Python 3",
   "language": "python",
   "name": "python3"
  },
  "language_info": {
   "codemirror_mode": {
    "name": "ipython",
    "version": 3
   },
   "file_extension": ".py",
   "mimetype": "text/x-python",
   "name": "python",
   "nbconvert_exporter": "python",
   "pygments_lexer": "ipython3",
   "version": "3.7.1"
  }
 },
 "nbformat": 4,
 "nbformat_minor": 2
}
