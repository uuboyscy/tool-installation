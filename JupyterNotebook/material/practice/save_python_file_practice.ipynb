{
 "cells": [
  {
   "cell_type": "code",
   "execution_count": 8,
   "metadata": {},
   "outputs": [
    {
     "name": "stdout",
     "output_type": "stream",
     "text": [
      "\n",
      "b = \"\"\"\n",
      "{\n",
      "    'k':100,\n",
      "    'v':200\n",
      "}\n",
      "    \"\"\"\n",
      "\n"
     ]
    }
   ],
   "source": [
    "a = \"\"\"\n",
    "b = \\\"\"\"\n",
    "{\n",
    "    'k':100,\n",
    "    'v':200\n",
    "}\n",
    "    \\\"\"\"\n",
    "\"\"\"\n",
    "print(a)"
   ]
  },
  {
   "cell_type": "code",
   "execution_count": 9,
   "metadata": {},
   "outputs": [],
   "source": [
    "with open(r'./save_python_file_practice.py', 'w', encoding='utf-8') as f:\n",
    "    f.write(a)"
   ]
  },
  {
   "cell_type": "code",
   "execution_count": 10,
   "metadata": {},
   "outputs": [
    {
     "name": "stdout",
     "output_type": "stream",
     "text": [
      "\n",
      "{\n",
      "    'k':100,\n",
      "    'v':200\n",
      "}\n",
      "    \n"
     ]
    }
   ],
   "source": [
    "import save_python_file_practice\n",
    "print(save_python_file_practice.b)"
   ]
  },
  {
   "cell_type": "code",
   "execution_count": null,
   "metadata": {},
   "outputs": [],
   "source": []
  }
 ],
 "metadata": {
  "kernelspec": {
   "display_name": "Python 3",
   "language": "python",
   "name": "python3"
  },
  "language_info": {
   "codemirror_mode": {
    "name": "ipython",
    "version": 3
   },
   "file_extension": ".py",
   "mimetype": "text/x-python",
   "name": "python",
   "nbconvert_exporter": "python",
   "pygments_lexer": "ipython3",
   "version": "3.7.1"
  }
 },
 "nbformat": 4,
 "nbformat_minor": 2
}
