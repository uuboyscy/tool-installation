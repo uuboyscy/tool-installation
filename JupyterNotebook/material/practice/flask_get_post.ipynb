{
 "cells": [
  {
   "cell_type": "code",
   "execution_count": 36,
   "metadata": {},
   "outputs": [],
   "source": [
    "#製作flask環境\n",
    "from flask import Flask, request, render_template"
   ]
  },
  {
   "cell_type": "code",
   "execution_count": 37,
   "metadata": {},
   "outputs": [],
   "source": [
    "#呼叫出Flask\n",
    "app = Flask(__name__)"
   ]
  },
  {
   "cell_type": "code",
   "execution_count": 38,
   "metadata": {},
   "outputs": [],
   "source": [
    "#app = Flask(__name__,static_url_path = \"/food\" , static_folder = \"../food/\")"
   ]
  },
  {
   "cell_type": "code",
   "execution_count": 39,
   "metadata": {},
   "outputs": [
    {
     "data": {
      "text/plain": [
       "'0b71b5b8.ngrok.io'"
      ]
     },
     "execution_count": 39,
     "metadata": {},
     "output_type": "execute_result"
    }
   ],
   "source": [
    "# 載入基礎設定檔\n",
    "import json\n",
    "secretFileContentJson=json.load(open(\"../line_secret_key\",'r'))\n",
    "server_url=secretFileContentJson.get(\"server_url\")\n",
    "server_url"
   ]
  },
  {
   "cell_type": "code",
   "execution_count": 40,
   "metadata": {},
   "outputs": [],
   "source": [
    "#製作一個接口，將server內部的程式做區隔，接口位置在“/hello”\n",
    "@app.route('/hello/<name>')\n",
    "#做一個函式是當接口被拜訪時會被啟動\n",
    "def Hello(name):\n",
    "    #做一個變數\n",
    "    text = \"Hello %s!!\"%(name)\n",
    "    #回傳函式的結果給使用者\n",
    "    return text"
   ]
  },
  {
   "cell_type": "code",
   "execution_count": 41,
   "metadata": {},
   "outputs": [],
   "source": [
    "@app.route('/hellouser', methods=['GET'])\n",
    "def getdata():\n",
    "    outStr = \"\"\"\n",
    "    <!doctype html>\n",
    "<title>Hello, World!</title>\n",
    "<h1>Hello, your name is ?</h1>\n",
    "<p></p>\n",
    "<form action=\"/hellouser\" method=\"post\">\n",
    " <label>Name:</label>\n",
    " <input type=\"textbox\" name=\"username\">\n",
    " <input type=\"submit\" value=\"Submit\">\n",
    "</form>\n",
    "    \"\"\"\n",
    "    #return render_template('text.html')\n",
    "    return outStr"
   ]
  },
  {
   "cell_type": "code",
   "execution_count": 42,
   "metadata": {},
   "outputs": [],
   "source": [
    "@app.route('/hellouser', methods=['POST'])\n",
    "def submit():\n",
    "    name = request.form.get('username')\n",
    "    return \"Hello\" + name"
   ]
  },
  {
   "cell_type": "code",
   "execution_count": 43,
   "metadata": {},
   "outputs": [
    {
     "name": "stderr",
     "output_type": "stream",
     "text": [
      " * Running on http://0.0.0.0:5000/ (Press CTRL+C to quit)\n",
      "192.168.160.4 - - [11/Feb/2019 09:36:02] \"GET /hellouser HTTP/1.1\" 200 -\n",
      "192.168.160.4 - - [11/Feb/2019 09:36:04] \"POST /hellouser HTTP/1.1\" 200 -\n"
     ]
    }
   ],
   "source": [
    "#運行flask server，運行在0.0.0.0:5000\n",
    "#要特別注意假如運行在127.0.0.1的話，會變成只有本機連的到，外網無法\n",
    "if __name__ == '__main__':\n",
    "    app.run(host='0.0.0.0',port=5000)"
   ]
  },
  {
   "cell_type": "code",
   "execution_count": null,
   "metadata": {},
   "outputs": [],
   "source": []
  },
  {
   "cell_type": "code",
   "execution_count": null,
   "metadata": {},
   "outputs": [],
   "source": []
  }
 ],
 "metadata": {
  "kernelspec": {
   "display_name": "Python 3",
   "language": "python",
   "name": "python3"
  },
  "language_info": {
   "codemirror_mode": {
    "name": "ipython",
    "version": 3
   },
   "file_extension": ".py",
   "mimetype": "text/x-python",
   "name": "python",
   "nbconvert_exporter": "python",
   "pygments_lexer": "ipython3",
   "version": "3.7.1"
  }
 },
 "nbformat": 4,
 "nbformat_minor": 2
}
