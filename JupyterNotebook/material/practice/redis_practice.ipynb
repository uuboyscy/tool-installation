{
 "cells": [
  {
   "cell_type": "code",
   "execution_count": 9,
   "metadata": {},
   "outputs": [
    {
     "name": "stdout",
     "output_type": "stream",
     "text": [
      "foo\n",
      "foo\n",
      "<class 'str'>\n"
     ]
    }
   ],
   "source": [
    "import redis\n",
    "\n",
    "# connect to redis\n",
    "r = redis.Redis(\n",
    "    # host name of redis container\n",
    "    host='redis_lins_jupyter',\n",
    "    port=6379,\n",
    "    # password\n",
    "    password='howdoyouturnthison6379',\n",
    "    # encoding\n",
    "    charset=\"utf-8\",\n",
    "    # without decoding, there will be a 'b' ahead each data\n",
    "    decode_responses=True)\n",
    "r.set('bar', 'foo')\n",
    "print(r['bar'])\n",
    "print(r.get('bar'))\n",
    "print(type(r.get('bar')))"
   ]
  },
  {
   "cell_type": "code",
   "execution_count": null,
   "metadata": {},
   "outputs": [],
   "source": []
  }
 ],
 "metadata": {
  "kernelspec": {
   "display_name": "Python 3",
   "language": "python",
   "name": "python3"
  },
  "language_info": {
   "codemirror_mode": {
    "name": "ipython",
    "version": 3
   },
   "file_extension": ".py",
   "mimetype": "text/x-python",
   "name": "python",
   "nbconvert_exporter": "python",
   "pygments_lexer": "ipython3",
   "version": "3.7.1"
  }
 },
 "nbformat": 4,
 "nbformat_minor": 2
}
