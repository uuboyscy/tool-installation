{
 "cells": [
  {
   "cell_type": "code",
   "execution_count": 1,
   "metadata": {},
   "outputs": [],
   "source": [
    "from linebot import LineBotApi\n",
    "from linebot.models import TextSendMessage\n",
    "from linebot.exceptions import LineBotApiError"
   ]
  },
  {
   "cell_type": "code",
   "execution_count": 2,
   "metadata": {},
   "outputs": [],
   "source": [
    "token = 'YGQ8o7Y8naocftGCq0M4XKSzF7XoSl4EyrsjUOqmxcYoGXndEELUdC5Q5RlJXyIoL8IRtN/3YaxjcXkZJMBSbqt82yGSJjD885hForRc7zBFpn6RE3EmPw2TNd7KRKrg+l0T9ZzHNGoxWuD1jh4BKwdB04t89/1O/w1cDnyilFU='\n",
    "line_bot_api = LineBotApi(token)"
   ]
  },
  {
   "cell_type": "code",
   "execution_count": 3,
   "metadata": {},
   "outputs": [
    {
     "name": "stdout",
     "output_type": "stream",
     "text": [
      "Push Error.\n"
     ]
    }
   ],
   "source": [
    "try:\n",
    "    line_bot_api.push_message(token, TextSendMessage(text='Hello World!'))\n",
    "except LineBotApiError as e:\n",
    "    # error handle\n",
    "    print('Push Error.')"
   ]
  },
  {
   "cell_type": "code",
   "execution_count": null,
   "metadata": {},
   "outputs": [],
   "source": []
  }
 ],
 "metadata": {
  "kernelspec": {
   "display_name": "Python 3",
   "language": "python",
   "name": "python3"
  },
  "language_info": {
   "codemirror_mode": {
    "name": "ipython",
    "version": 3
   },
   "file_extension": ".py",
   "mimetype": "text/x-python",
   "name": "python",
   "nbconvert_exporter": "python",
   "pygments_lexer": "ipython3",
   "version": "3.7.1"
  }
 },
 "nbformat": 4,
 "nbformat_minor": 2
}
